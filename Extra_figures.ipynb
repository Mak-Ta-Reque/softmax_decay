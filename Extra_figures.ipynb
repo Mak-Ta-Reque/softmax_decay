{
 "cells": [
  {
   "cell_type": "markdown",
   "metadata": {},
   "source": [
    "## MoRF and LeRF example"
   ]
  },
  {
   "cell_type": "code",
   "execution_count": 51,
   "metadata": {},
   "outputs": [
    {
     "data": {
      "text/plain": [
       "<Figure size 640x480 with 0 Axes>"
      ]
     },
     "metadata": {},
     "output_type": "display_data"
    }
   ],
   "source": [
    "\n",
    "# imports\n",
    "import torch\n",
    "import torchvision\n",
    "from torchvision import models as models\n",
    "import torchvision.transforms as transforms\n",
    "from torch import nn as nn\n",
    "import matplotlib.pyplot as plt\n",
    "from tqdm import tqdm\n",
    "import numpy as np\n",
    "import copy\n",
    "plt.gray()\n"
   ]
  },
  {
   "cell_type": "code",
   "execution_count": 102,
   "metadata": {},
   "outputs": [
    {
     "name": "stdout",
     "output_type": "stream",
     "text": [
      "Files already downloaded and verified\n",
      "Files already downloaded and verified\n",
      "Length of test set:  10000\n"
     ]
    }
   ],
   "source": [
    "\n",
    "perturbation_range = [0.0, 0.1, 0.2, 0.3, 0.4, 0.5, 0.6, 0.7, 0.8, 0.9, 1.0]\n",
    "transform_tensor = torchvision.transforms.Compose([transforms.ToTensor()])\n",
    "cifar_train = torchvision.datasets.CIFAR10(root='/workspaces/data/cifar10/explanation', train=True, download=True, transform=transform_tensor)\n",
    "cifar_test = torchvision.datasets.CIFAR10(root='/workspaces/data/cifar10/explanation', train=False, download=True, transform=transform_tensor)\n",
    "print(\"Length of test set: \", len(cifar_test))"
   ]
  },
  {
   "cell_type": "code",
   "execution_count": 103,
   "metadata": {},
   "outputs": [],
   "source": [
    "from road.utils import load_expl\n",
    "_, explanation_test, _, prediction_test = load_expl(None, '/workspaces/data/cifar10/explanation/ig/base_test.pkl')"
   ]
  },
  {
   "cell_type": "code",
   "execution_count": 104,
   "metadata": {},
   "outputs": [],
   "source": [
    "def show_img(ax, dataset, iid, th, morf = True, attributions=False):\n",
    "    \"\"\" Plot an item of a dataset. Tranfer axis format from channels-first to channels-last.\"\"\"\n",
    "    tup = dataset[iid]\n",
    "    attribute_map = np.dot(tup[...,:3], [0.299, 0.587, 0.114])\n",
    "    max_heatmap_val = np.max(attribute_map)\n",
    "    min_heatmap_val = np.min(attribute_map)\n",
    "    \n",
    "    mask =  (attribute_map- min_heatmap_val)/(max_heatmap_val  - min_heatmap_val)\n",
    "    #ax.matshow(mask)\n",
    "    map_host  = np.ones(shape= attribute_map.shape)\n",
    "    map = copy.copy(mask)\n",
    "    #map = np.linalg.norm(map, axis=2)\n",
    "    if morf:\n",
    "        map = (map > (1.0- th ))\n",
    "    else:\n",
    "        map = map <= th\n",
    "    map = map * map_host\n",
    "    \n",
    "\n",
    "    if attributions:\n",
    "        if np.sum(map) == 32*32:\n",
    "            #map = map* 0.0\n",
    "            ax.matshow(map, vmin=0, vmax=1)\n",
    "        else:\n",
    "            ax.matshow(map)\n",
    "        #ax.matshow(np.linalg.norm(map, axis=2))\n",
    "     \n",
    "    else:\n",
    "        ax.imshow((map.transpose(0,1).transpose(1,2)))"
   ]
  },
  {
   "cell_type": "code",
   "execution_count": 106,
   "metadata": {},
   "outputs": [
    {
     "data": {
      "image/png": "[encoded data removed]",
      "text/plain": [
       "<Figure size 640x480 with 11 Axes>"
      ]
     },
     "metadata": {},
     "output_type": "display_data"
    }
   ],
   "source": [
    "f, axes_list = plt.subplots(1, len(perturbation_range))\n",
    "img_id = 2257\n",
    "for i in range(len(perturbation_range)):\n",
    "    show_img(axes_list[i], explanation_test, img_id, perturbation_range[i], morf=True, attributions=True)\n",
    "    axes_list[i].set_title(perturbation_range[i],y= -1)\n",
    "\n",
    "    for ax in axes_list:\n",
    "        ax.set_xticks([])\n",
    "        ax.set_yticks([])\n",
    "f.savefig(\"/workspaces/road_impainting/morf.pdf\", bbox_inches='tight')"
   ]
  },
  {
   "cell_type": "code",
   "execution_count": 108,
   "metadata": {},
   "outputs": [
    {
     "data": {
      "image/png": "[encoded data removed]",
      "text/plain": [
       "<Figure size 640x480 with 11 Axes>"
      ]
     },
     "metadata": {},
     "output_type": "display_data"
    }
   ],
   "source": [
    "f, axes_list = plt.subplots(1, len(perturbation_range))\n",
    "img_id = 2257\n",
    "for i in range(len(perturbation_range)):\n",
    "    show_img(axes_list[i], explanation_test, img_id, perturbation_range[i], morf=False, attributions=True)\n",
    "    #axes_list[i].set_title( perturbation_range[i])\n",
    "\n",
    "    for ax in axes_list:\n",
    "        ax.set_xticks([])\n",
    "        ax.set_yticks([])\n",
    "f.savefig(\"/workspaces/road_impainting/lerf.pdf\", bbox_inches ='tight')"
   ]
  },
  {
   "cell_type": "code",
   "execution_count": null,
   "metadata": {},
   "outputs": [],
   "source": [
    "image.png"
   ]
  }
 ],
 "metadata": {
  "kernelspec": {
   "display_name": "Python 3.9.15 64-bit",
   "language": "python",
   "name": "python3"
  },
  "language_info": {
   "codemirror_mode": {
    "name": "ipython",
    "version": 3
   },
   "file_extension": ".py",
   "mimetype": "text/x-python",
   "name": "python",
   "nbconvert_exporter": "python",
   "pygments_lexer": "ipython3",
   "version": "3.9.15"
  },
  "orig_nbformat": 4,
  "vscode": {
   "interpreter": {
    "hash": "949777d72b0d2535278d3dc13498b2535136f6dfe0678499012e853ee9abcab1"
   }
  }
 },
 "nbformat": 4,
 "nbformat_minor": 2
}
