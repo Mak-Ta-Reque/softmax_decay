{
 "cells": [
  {
   "cell_type": "code",
   "execution_count": 1,
   "metadata": {},
   "outputs": [
    {
     "name": "stdout",
     "output_type": "stream",
     "text": [
      "Requirement already satisfied: seaborn in /usr/local/lib/python3.9/site-packages (0.12.1)\n",
      "Requirement already satisfied: matplotlib!=3.6.1,>=3.1 in /usr/local/lib/python3.9/site-packages (from seaborn) (3.6.2)\n",
      "Requirement already satisfied: pandas>=0.25 in /usr/local/lib/python3.9/site-packages (from seaborn) (1.5.1)\n",
      "Requirement already satisfied: numpy>=1.17 in /usr/local/lib/python3.9/site-packages (from seaborn) (1.23.4)\n",
      "Requirement already satisfied: pillow>=6.2.0 in /usr/local/lib/python3.9/site-packages (from matplotlib!=3.6.1,>=3.1->seaborn) (9.3.0)\n",
      "Requirement already satisfied: kiwisolver>=1.0.1 in /usr/local/lib/python3.9/site-packages (from matplotlib!=3.6.1,>=3.1->seaborn) (1.4.4)\n",
      "Requirement already satisfied: cycler>=0.10 in /usr/local/lib/python3.9/site-packages (from matplotlib!=3.6.1,>=3.1->seaborn) (0.11.0)\n",
      "Requirement already satisfied: pyparsing>=2.2.1 in /usr/local/lib/python3.9/site-packages (from matplotlib!=3.6.1,>=3.1->seaborn) (3.0.9)\n",
      "Requirement already satisfied: packaging>=20.0 in /usr/local/lib/python3.9/site-packages (from matplotlib!=3.6.1,>=3.1->seaborn) (21.3)\n",
      "Requirement already satisfied: fonttools>=4.22.0 in /usr/local/lib/python3.9/site-packages (from matplotlib!=3.6.1,>=3.1->seaborn) (4.38.0)\n",
      "Requirement already satisfied: python-dateutil>=2.7 in /usr/local/lib/python3.9/site-packages (from matplotlib!=3.6.1,>=3.1->seaborn) (2.8.2)\n",
      "Requirement already satisfied: contourpy>=1.0.1 in /usr/local/lib/python3.9/site-packages (from matplotlib!=3.6.1,>=3.1->seaborn) (1.0.6)\n",
      "Requirement already satisfied: pytz>=2020.1 in /usr/local/lib/python3.9/site-packages (from pandas>=0.25->seaborn) (2022.6)\n",
      "Requirement already satisfied: six>=1.5 in /usr/local/lib/python3.9/site-packages (from python-dateutil>=2.7->matplotlib!=3.6.1,>=3.1->seaborn) (1.16.0)\n",
      "\u001b[33mWARNING: Running pip as the 'root' user can result in broken permissions and conflicting behaviour with the system package manager. It is recommended to use a virtual environment instead: https://pip.pypa.io/warnings/venv\u001b[0m\u001b[33m\n",
      "\u001b[0m"
     ]
    }
   ],
   "source": [
    "!pip install seaborn"
   ]
  },
  {
   "cell_type": "markdown",
   "metadata": {},
   "source": [
    "## State of the art (ROAD, sort base ranking and linear noisy imputation notrain method)"
   ]
  },
  {
   "cell_type": "code",
   "execution_count": 30,
   "metadata": {},
   "outputs": [],
   "source": [
    "\n",
    "notretrain_threshold_linear = \"/workspaces/outputs/road_8_exp_mothods/sort/results/noretrain.json\""
   ]
  },
  {
   "cell_type": "code",
   "execution_count": 31,
   "metadata": {},
   "outputs": [],
   "source": [
    "import json\n",
    "import pandas as pd\n",
    "import numpy as np"
   ]
  },
  {
   "cell_type": "code",
   "execution_count": 32,
   "metadata": {},
   "outputs": [],
   "source": [
    "with open(notretrain_threshold_linear) as json_file:\n",
    "    notretrain_threshold_linear = json.load(json_file)"
   ]
  },
  {
   "cell_type": "code",
   "execution_count": 33,
   "metadata": {},
   "outputs": [],
   "source": [
    "def averaging_accuracy(dict_result):\n",
    "    import copy\n",
    "    dictionary = copy.deepcopy(dict_result)\n",
    "    for method in dictionary['imputations']:\n",
    "        for key_m, value_m in dictionary[method].items():\n",
    "            for key_sb, value_ac in value_m.items():\n",
    "                for key_f, value_f in  value_ac.items():                  \n",
    "                    for key_p, value_ar in value_f.items():\n",
    "                        value_f[key_p] = sum(value_ar)/len(value_ar)\n",
    "    return dictionary"
   ]
  },
  {
   "cell_type": "code",
   "execution_count": 34,
   "metadata": {},
   "outputs": [],
   "source": [
    "import numpy\n",
    "def rankdata(numbers , morf=False):\n",
    "    array = numpy.array(numbers)\n",
    "    if not morf:\n",
    "        array = 1 - array\n",
    "    temp = array.argsort()\n",
    "    ranks = numpy.empty_like(temp)\n",
    "  \n",
    "    ranks[temp] = numpy.arange(len(array)) + 1\n",
    "    return ranks"
   ]
  },
  {
   "cell_type": "code",
   "execution_count": 35,
   "metadata": {},
   "outputs": [],
   "source": [
    "def ranker(data_dict, appraoch=\"zero\", morf=True, items=[\"ig\" , \"gb\"]):\n",
    "    import copy\n",
    "    if morf:\n",
    "        method = 'MoRF'\n",
    "    else:\n",
    "        method ='LeRF'\n",
    "    printable_data_dict = copy.deepcopy(data_dict)\n",
    "    new_dict = {}\n",
    "    ranked_dict = {}\n",
    "    new_dict['x_axis'] = printable_data_dict[\"percentages\"][0:7] #0:7\n",
    "    for key_m,  val_m in printable_data_dict[appraoch].items():\n",
    "        if key_m in items:\n",
    "            for key_var, val_var in val_m.items():\n",
    "                if not morf:\n",
    "                    accs = val_var['lerf']\n",
    "                    l = list(accs.values())\n",
    "                    new_dict[f\"{key_m}-{key_var}\"] = l[0:7]\n",
    "                else:\n",
    "                    accs = val_var['morf']\n",
    "                    new_dict[f\"{key_m}-{key_var}\"] = list(accs.values())[0:7]\n",
    "    x = new_dict[\"x_axis\"]\n",
    "    del(new_dict[\"x_axis\"])\n",
    "        \n",
    "    count = 0\n",
    "    for each in x:\n",
    "        list_item = []\n",
    "        for k, v in new_dict.items():\n",
    "            list_item.append(v[count])\n",
    "        ranked_dict[each] = rankdata(list_item, morf=morf)\n",
    "        count+=1\n",
    "    return ranked_dict"
   ]
  },
  {
   "cell_type": "code",
   "execution_count": 48,
   "metadata": {},
   "outputs": [],
   "source": [
    "def plot_consistancy( data_dict, appraoch=\"zero\", morf=True, path=None, items=[\"ig\"]):\n",
    "    import copy\n",
    "    if morf:\n",
    "        method = 'MoRF'\n",
    "    else:\n",
    "        method ='LeRF'\n",
    "    printable_data_dict = copy.deepcopy(data_dict)\n",
    "    new_dict = {}\n",
    "    new_dict['x_axis'] = printable_data_dict[\"percentages\"][0:-1]\n",
    "    for key_m,  val_m in printable_data_dict[appraoch].items():\n",
    "        if key_m in items:\n",
    "            for key_var, val_var in val_m.items():\n",
    "                if not morf:\n",
    "                    accs = val_var['lerf']\n",
    "                    l = list(accs.values())\n",
    "                    #l.reverse()\n",
    "                    print(key_m)\n",
    "                    new_dict[f\"{key_m}-{key_var}\"] = l[0:-1]\n",
    "\n",
    "                else:\n",
    "                    accs = val_var['morf']\n",
    "                    new_dict[f\"{key_m}-{key_var}\"] = list(accs.values())[0:-1]\n",
    "                 \n",
    "    import matplotlib.pyplot as plt\n",
    "    import seaborn as sns\n",
    "    \n",
    "    #sns.set_theme(style=\"whitegrid\")\n",
    "    sns.set(font_scale=2.1, style=\"whitegrid\")\n",
    "    data = pd.DataFrame.from_dict(new_dict)\n",
    "    data.rename(columns={'gb-base': 'GB', 'gb-sg': 'GB-SG', 'gb-var': 'GB-VAR', 'gb-sq': 'GB-SQ', 'ig-base': 'IG', 'ig-sg': 'IG-SG', 'ig-var': 'IG-VAR', 'ig-sq': 'IG-SQ'}, inplace=True)\n",
    "    data = data.set_index('x_axis')\n",
    "\n",
    "    ax = sns.lineplot(data=data, palette=\"tab10\", linewidth=2.5)\n",
    "    #ax.legend(loc='lower left',ncol=2)\n",
    "    ax.set(ylim=(0.0, 1.0))\n",
    "    ax.set(xlim=(0.0, 0.9))\n",
    "    ax.set(xlabel=f'Ratio of pixels', ylabel='Accuracy')\n",
    "    ax.legend(fontsize=13.8, loc='lower left',ncol=2)\n",
    "    ax.figure.savefig(f'{path}/{appraoch}-{method}.pdf', bbox_inches='tight')\n",
    "    ax.figure.clf()"
   ]
  },
  {
   "cell_type": "code",
   "execution_count": 37,
   "metadata": {},
   "outputs": [],
   "source": [
    "from scipy.stats import spearmanr\n",
    "def calculate_spearman_morf_lerf(morf, lerf):\n",
    "    scores =[]\n",
    "    for ind in morf.keys():\n",
    "        score = spearmanr(morf[ind], lerf[ind]).correlation\n",
    "        scores.append(score)\n",
    "    return scores\n"
   ]
  },
  {
   "cell_type": "code",
   "execution_count": 38,
   "metadata": {},
   "outputs": [],
   "source": [
    "def show_images(path):\n",
    "    from PIL import Image\n",
    "    import glob\n",
    "    images = glob.glob(f'{path}/*.png')\n",
    "    for im in images:\n",
    "        im = Image.open(im)\n",
    "        display(im)"
   ]
  },
  {
   "cell_type": "code",
   "execution_count": 39,
   "metadata": {},
   "outputs": [],
   "source": [
    "averaged_accuracy_threshold_linear = averaging_accuracy(notretrain_threshold_linear)"
   ]
  },
  {
   "cell_type": "markdown",
   "metadata": {},
   "source": [
    "## Liner fixed"
   ]
  },
  {
   "cell_type": "markdown",
   "metadata": {},
   "source": [
    "## Sort (Linear)"
   ]
  },
  {
   "cell_type": "code",
   "execution_count": 50,
   "metadata": {},
   "outputs": [
    {
     "name": "stdout",
     "output_type": "stream",
     "text": [
      "ig\n",
      "ig\n",
      "ig\n",
      "ig\n"
     ]
    },
    {
     "data": {
      "text/plain": [
       "<Figure size 640x480 with 0 Axes>"
      ]
     },
     "metadata": {},
     "output_type": "display_data"
    }
   ],
   "source": [
    "plot_consistancy(averaged_accuracy_threshold_linear, morf=False, appraoch=\"linear\", path=f'/workspaces/outputs/road_8_exp_mothods/ig/sort/plots/all')\n",
    "#show_images(f'/workspaces/outputs/road_8_exp_mothods/sort/plots')"
   ]
  },
  {
   "cell_type": "code",
   "execution_count": 318,
   "metadata": {},
   "outputs": [
    {
     "name": "stdout",
     "output_type": "stream",
     "text": [
      "0.5816326530612245\n"
     ]
    }
   ],
   "source": []
  },
  {
   "cell_type": "markdown",
   "metadata": {},
   "source": [
    "## SORT(Linear)"
   ]
  },
  {
   "cell_type": "code",
   "execution_count": 16,
   "metadata": {},
   "outputs": [
    {
     "name": "stdout",
     "output_type": "stream",
     "text": [
      "0.5816326530612245\n"
     ]
    }
   ],
   "source": [
    "import numpy as np\n",
    "ranking_lerf = ranker(averaged_accuracy_threshold_linear, morf=False, appraoch=\"linear\")\n",
    "ranking_morf = ranker(averaged_accuracy_threshold_linear, morf=True, appraoch=\"linear\")\n",
    "score = calculate_spearman_morf_lerf(ranking_lerf, ranking_morf)\n",
    "print (np.mean(score))"
   ]
  },
  {
   "cell_type": "markdown",
   "metadata": {},
   "source": [
    "# SORT (Telea)"
   ]
  },
  {
   "cell_type": "code",
   "execution_count": 17,
   "metadata": {},
   "outputs": [
    {
     "name": "stdout",
     "output_type": "stream",
     "text": [
      "0.6190476190476192\n"
     ]
    }
   ],
   "source": [
    "import numpy as np\n",
    "ranking_lerf = ranker(averaged_accuracy_threshold_linear, morf=False, appraoch=\"telea\")\n",
    "ranking_morf = ranker(averaged_accuracy_threshold_linear, morf=True, appraoch=\"telea\")\n",
    "score = calculate_spearman_morf_lerf(ranking_lerf, ranking_morf)\n",
    "print (np.mean(score))"
   ]
  },
  {
   "cell_type": "markdown",
   "metadata": {},
   "source": [
    "# SORT (NS)"
   ]
  },
  {
   "cell_type": "code",
   "execution_count": 18,
   "metadata": {},
   "outputs": [
    {
     "name": "stdout",
     "output_type": "stream",
     "text": [
      "0.5646258503401361\n"
     ]
    }
   ],
   "source": [
    "import numpy as np\n",
    "ranking_lerf = ranker(averaged_accuracy_threshold_linear, morf=False, appraoch=\"ns\")\n",
    "ranking_morf = ranker(averaged_accuracy_threshold_linear, morf=True, appraoch=\"ns\")\n",
    "score = calculate_spearman_morf_lerf(ranking_lerf, ranking_morf)\n",
    "print (np.mean(score))"
   ]
  }
 ],
 "metadata": {
  "kernelspec": {
   "display_name": "Python 3.9.15 64-bit",
   "language": "python",
   "name": "python3"
  },
  "language_info": {
   "codemirror_mode": {
    "name": "ipython",
    "version": 3
   },
   "file_extension": ".py",
   "mimetype": "text/x-python",
   "name": "python",
   "nbconvert_exporter": "python",
   "pygments_lexer": "ipython3",
   "version": "3.9.15"
  },
  "orig_nbformat": 4,
  "vscode": {
   "interpreter": {
    "hash": "949777d72b0d2535278d3dc13498b2535136f6dfe0678499012e853ee9abcab1"
   }
  }
 },
 "nbformat": 4,
 "nbformat_minor": 2
}
